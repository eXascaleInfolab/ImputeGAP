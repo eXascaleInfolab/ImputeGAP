{
 "cells": [
  {
   "metadata": {},
   "cell_type": "markdown",
   "source": [
    "\n",
    "<div style=\"text-align: center;\">\n",
    "  <img width=\"420\" height=\"420\" src=\"https://www.naterscreations.com/imputegap/logo_imputegab.png\" />\n",
    "</div>\n",
    "\n",
    "<h1>ImputeGAP: Repair Notebook</h1>"
   ],
   "id": "fa71d96b35e5b523"
  },
  {
   "metadata": {},
   "cell_type": "code",
   "outputs": [],
   "execution_count": null,
   "source": [
    "%pip install imputegap\n",
    "%pip install -U ipywidgets"
   ],
   "id": "43d064963068e258"
  },
  {
   "metadata": {},
   "cell_type": "markdown",
   "source": "<h1>Loading</h1>",
   "id": "f63e164a6fd7cdae"
  },
  {
   "metadata": {},
   "cell_type": "markdown",
   "source": [
    "ImputeGAP comes with several time series datasets.\n",
    "\n",
    "As an example, we use the eeg-alcohol dataset, composed of individuals with a genetic predisposition to alcoholism. The dataset contains measurements from 64 electrodes placed on subject’s scalps, sampled at 256 Hz. The dimensions of the dataset are 64 series, each containing 256 values.\n",
    "\n",
    "To load and plot the eeg-alcohol dataset from the library:"
   ],
   "id": "5684828dc4d19d84"
  },
  {
   "metadata": {
    "ExecuteTime": {
     "end_time": "2025-04-03T16:00:09.616023Z",
     "start_time": "2025-04-03T16:00:07.986484Z"
    }
   },
   "cell_type": "code",
   "source": [
    "from imputegap.recovery.manager import TimeSeries\n",
    "from imputegap.tools import utils\n",
    "\n",
    "# initialize the time series object\n",
    "ts = TimeSeries()\n",
    "\n",
    "# load and normalize the dataset from the library\n",
    "ts.load_series(utils.search_path(\"eeg-alcohol\"))\n",
    "ts.normalize(normalizer=\"z_score\")\n",
    "\n",
    "# plot and print a subset of time series\n",
    "ts.print(nbr_series=3, nbr_val=7)\n",
    "ts.plot(input_data=ts.data, nbr_series=9, nbr_val=100, save_path=\"./imputegap_assets\")"
   ],
   "id": "61f67781fa6b3175",
   "outputs": [
    {
     "name": "stdout",
     "output_type": "stream",
     "text": [
      "\n",
      "(SYS) The time series have been loaded from /mnt/c/Users/nquen/switchdrive/MST_MasterThesis/imputegap/imputegap/dataset/eeg-alcohol.txt\n",
      "\n",
      "> logs: normalization (z_score) of the data - runtime: 0.0007 seconds\n",
      "\n",
      "shape of eeg-alcohol : (64, 256)\n",
      "\tnumber of series = 64\n",
      "\tnumber of values = 256\n",
      "\n",
      "                  TS_1           TS_2           TS_3           \n",
      "idx_0             2.1903285853   1.6705262632   2.2587543576\n",
      "idx_1             1.9472603285   1.5655748037   2.1966398110\n",
      "idx_2             1.7041920717   1.4605158119   2.1966398110\n",
      "idx_3             1.5825957138   1.3029810904   2.1345252645\n",
      "idx_4             1.4003878654   1.0929706391   1.8858125103\n",
      "idx_5             1.2180555580   0.7779011960   1.5751124936\n",
      "idx_6             0.9749873012   0.6204740067   1.2644124768\n",
      "...\n",
      "\n",
      "plots saved in  ./imputegap_assets/25_04_03_18_00_08_imputegap_plot.jpg\n"
     ]
    },
    {
     "data": {
      "text/plain": [
       "'./imputegap_assets/25_04_03_18_00_08_imputegap_plot.jpg'"
      ]
     },
     "execution_count": 10,
     "metadata": {},
     "output_type": "execute_result"
    }
   ],
   "execution_count": 10
  },
  {
   "metadata": {},
   "cell_type": "markdown",
   "source": "The module **ts.datasets** contains all the publicly available datasets provided by the library, which can be listed as follows:",
   "id": "adc6da43dcb5199f"
  },
  {
   "metadata": {
    "ExecuteTime": {
     "end_time": "2025-04-03T16:00:10.791897Z",
     "start_time": "2025-04-03T16:00:10.785019Z"
    }
   },
   "cell_type": "code",
   "source": "ts.datasets",
   "id": "1da2f11940b3ff68",
   "outputs": [
    {
     "data": {
      "text/plain": [
       "['airq',\n",
       " 'bafu',\n",
       " 'chlorine',\n",
       " 'climate',\n",
       " 'drift',\n",
       " 'eeg-alcohol',\n",
       " 'eeg-reading',\n",
       " 'electricity',\n",
       " 'fmri-objectviewing',\n",
       " 'fmri-stoptask',\n",
       " 'forecast-economy',\n",
       " 'meteo',\n",
       " 'motion',\n",
       " 'soccer',\n",
       " 'temperature']"
      ]
     },
     "execution_count": 11,
     "metadata": {},
     "output_type": "execute_result"
    }
   ],
   "execution_count": 11
  },
  {
   "metadata": {},
   "cell_type": "markdown",
   "source": "To load your own dataset, add the path to your file in the **ts.load_series** function:",
   "id": "50efda8c74aae716"
  },
  {
   "metadata": {
    "ExecuteTime": {
     "end_time": "2025-04-03T16:00:12.572328Z",
     "start_time": "2025-04-03T16:00:12.560022Z"
    }
   },
   "cell_type": "code",
   "source": [
    "from imputegap.recovery.manager import TimeSeries\n",
    "ts = TimeSeries()\n",
    "ts.load_series(\"./dataset/test.txt\")\n",
    "ts.data"
   ],
   "id": "99e2da86f9b6bc6e",
   "outputs": [
    {
     "name": "stdout",
     "output_type": "stream",
     "text": [
      "\n",
      "(SYS) The time series have been loaded from ./dataset/test.txt\n",
      "\n"
     ]
    },
    {
     "data": {
      "text/plain": [
       "array([[ 1.5,  2.5,  1.5,  2.5,  1.5,  2. ,  2. ,  2. ,  2. ,  2. ,  2. ,\n",
       "         1. ,  1. ,  1. ,  1. ,  2. ,  1. ,  2. ,  1. ,  2. ,  2. ,  1.8,\n",
       "         2.2,  2. ,  2.1],\n",
       "       [ 0.5,  0.2,  0.3,  0.4,  0.9,  1. ,  0. ,  0. ,  0. ,  0. ,  0. ,\n",
       "         0. ,  0. ,  1. ,  1. ,  1. ,  1. ,  1. ,  1. ,  1. ,  1. ,  0.8,\n",
       "         1.2,  1. ,  1.1],\n",
       "       [ 0.1,  2.9,  2.8,  2.7,  2.6,  2.5,  2.4,  2.3,  2.1,  2. ,  1.9,\n",
       "         1.8,  1.7,  1.6,  1.5,  1.3,  1.2,  1.1,  1. ,  0.9,  0.9,  0.7,\n",
       "         1.1,  1. ,  1.1],\n",
       "       [ 0.1,  2. ,  1.9,  1.8,  1.7,  1.6,  1.5,  1.4,  1.3,  1.2,  1.1,\n",
       "         1. ,  0.9,  0.8,  0.7,  0.6,  0.5,  0.4,  0.3,  0.2,  0.2,  0. ,\n",
       "         0.4,  0.2,  0.1],\n",
       "       [ 0.1,  1.8,  1.7,  1.6,  1.5,  1.4,  1.3,  1.2,  1.1,  1. ,  0.9,\n",
       "         0.8,  0.7,  0.6,  0.5,  0.4,  0.3,  0.2,  0.1,  0. ,  0. , -0.2,\n",
       "         0.2,  0. ,  0.1],\n",
       "       [ 0.1,  1.8,  1.9,  1.6,  0.8,  1.8,  1.9,  1.1,  1. ,  1.9,  0.1,\n",
       "         0.2,  0.6,  0.7,  0.8,  0.9,  0.4,  0.1,  0.2,  0.3,  0.3,  0.1,\n",
       "         0.5,  0.3,  0.2],\n",
       "       [ 1.4,  2.4,  1.4,  2.5,  1. ,  1. ,  2. ,  2. ,  1. ,  1.1,  1.5,\n",
       "         1.4,  1.7,  1.8,  1.9,  2. ,  0.2,  0.1,  0.1, -0.1, -0.1, -0.3,\n",
       "         0.1, -0.1,  0. ],\n",
       "       [ 1. ,  1. ,  1. ,  1. ,  1. ,  1. ,  1. ,  1. ,  2. ,  0. ,  1. ,\n",
       "         1. ,  1. ,  1. ,  1. ,  1. ,  1. ,  1. ,  1. ,  1. ,  1. ,  0.8,\n",
       "         1.2,  1. ,  1.1],\n",
       "       [ 1. ,  1. ,  1. ,  1. ,  1. ,  1.8,  1.9,  2. ,  2.1,  2. ,  1.9,\n",
       "         1.8,  1. ,  1. ,  1. ,  1. ,  1. ,  1. ,  1. ,  1. ,  1. ,  0.8,\n",
       "         1.2,  1. ,  1.1],\n",
       "       [ 0. ,  0. ,  1. ,  1. ,  0.5,  1.5,  0.6,  1.4,  0.5,  1.5,  0.7,\n",
       "         0.8,  1. ,  1.5,  1.9,  1.1,  1.5,  1.4,  1.6,  1.5,  1.5,  1.4,\n",
       "         1.5,  1.3,  1.2]])"
      ]
     },
     "execution_count": 12,
     "metadata": {},
     "output_type": "execute_result"
    }
   ],
   "execution_count": 12
  },
  {
   "metadata": {},
   "cell_type": "markdown",
   "source": "To import the time series as a matrix, add it to the **ts.import_matrix** function:",
   "id": "da70c4b1c9b9e9e6"
  },
  {
   "metadata": {
    "ExecuteTime": {
     "end_time": "2025-04-03T16:00:15.027300Z",
     "start_time": "2025-04-03T16:00:15.022646Z"
    }
   },
   "cell_type": "code",
   "source": [
    "from imputegap.recovery.manager import TimeSeries\n",
    "ts = TimeSeries()\n",
    "mat = [[2,3,9], [3,10,5], [-1,4,5], [0,0,0]]\n",
    "ts.import_matrix(mat)\n",
    "ts.data"
   ],
   "id": "48dc9f9c035f06ec",
   "outputs": [
    {
     "data": {
      "text/plain": [
       "array([[ 2,  3,  9],\n",
       "       [ 3, 10,  5],\n",
       "       [-1,  4,  5],\n",
       "       [ 0,  0,  0]])"
      ]
     },
     "execution_count": 13,
     "metadata": {},
     "output_type": "execute_result"
    }
   ],
   "execution_count": 13
  },
  {
   "metadata": {},
   "cell_type": "markdown",
   "source": "<h1>Contamination</h1>",
   "id": "dca90c9df3071857"
  },
  {
   "metadata": {},
   "cell_type": "markdown",
   "source": [
    "We now describe how to simulate missing values in the loaded dataset. ImputeGAP implements eight different missingness patterns.\n",
    "\n",
    "As example, we show how to contaminate the eeg-alcohol dataset with the MCAR pattern:"
   ],
   "id": "c0a1daeab966136c"
  },
  {
   "metadata": {
    "ExecuteTime": {
     "end_time": "2025-04-03T16:00:17.136641Z",
     "start_time": "2025-04-03T16:00:17.098257Z"
    }
   },
   "cell_type": "code",
   "source": [
    "from imputegap.recovery.manager import TimeSeries\n",
    "from imputegap.tools import utils\n",
    "\n",
    "# initialize the time series object\n",
    "ts = TimeSeries()\n",
    "\n",
    "# load and normalize the dataset\n",
    "ts.load_series(utils.search_path(\"eeg-alcohol\"))\n",
    "ts.normalize(normalizer=\"z_score\")\n",
    "\n",
    "# contaminate the time series with MCAR pattern\n",
    "ts_m = ts.Contamination.mcar(ts.data, rate_dataset=0.2, rate_series=0.4, block_size=10, offset=0.05, seed=True)"
   ],
   "id": "e0b4d3d7bd432e17",
   "outputs": [
    {
     "name": "stdout",
     "output_type": "stream",
     "text": [
      "\n",
      "(SYS) The time series have been loaded from /mnt/c/Users/nquen/switchdrive/MST_MasterThesis/imputegap/imputegap/dataset/eeg-alcohol.txt\n",
      "\n",
      "> logs: normalization (z_score) of the data - runtime: 0.0005 seconds\n",
      "\n",
      "(CONT) missigness pattern: MCAR\n",
      "\tselected series: ['52', '58', '0', '44', '5', '36', '16', '12', '25', '61', '56', '9', '40']\n",
      "\trate series impacted: 20.0%\n",
      "\tmissing rate per series: 40.0%\n",
      "\tblock size: 10\n",
      "\tstarting position: 12\n",
      "\tseed value: 42\n"
     ]
    }
   ],
   "execution_count": 14
  },
  {
   "metadata": {
    "ExecuteTime": {
     "end_time": "2025-04-03T16:00:19.288091Z",
     "start_time": "2025-04-03T16:00:19.281827Z"
    }
   },
   "cell_type": "code",
   "source": "ts_m",
   "id": "7ef4d7a4cd58fab5",
   "outputs": [
    {
     "data": {
      "text/plain": [
       "array([[ 2.19032859,  1.94726033,  1.70419207, ...,  1.76492802,\n",
       "         1.64345612,  1.03572325],\n",
       "       [ 1.67052626,  1.5655748 ,  1.46051581, ...,  1.61805053,\n",
       "         1.61805053,  1.30298109],\n",
       "       [ 2.25875436,  2.19663981,  2.19663981, ...,  1.51299795,\n",
       "         1.26441248,  0.26994331],\n",
       "       ...,\n",
       "       [-0.88963417, -0.56993316,  0.07012397, ..., -0.0900541 ,\n",
       "        -0.0900541 ,  0.07012397],\n",
       "       [ 2.69887602,  2.1816959 ,  1.77939239, ...,  0.11274005,\n",
       "         0.22761665, -0.28956347],\n",
       "       [ 2.70885585,  2.18716136,  1.83928587, ...,  0.15808559,\n",
       "         0.27396493, -0.24772957]])"
      ]
     },
     "execution_count": 15,
     "metadata": {},
     "output_type": "execute_result"
    }
   ],
   "execution_count": 15
  },
  {
   "metadata": {
    "ExecuteTime": {
     "end_time": "2025-04-03T16:00:31.558547Z",
     "start_time": "2025-04-03T16:00:27.969093Z"
    }
   },
   "cell_type": "code",
   "source": [
    "# plot the contaminated time series\n",
    "ts.plot(ts.data, ts_m, nbr_series=9, subplot=True, save_path=\"./imputegap_assets/contamination\")"
   ],
   "id": "f16d1cc562cd42ab",
   "outputs": [
    {
     "name": "stdout",
     "output_type": "stream",
     "text": [
      "\n",
      "plots saved in  ./imputegap_assets/contamination/25_04_03_18_00_29_imputegap_plot.jpg\n"
     ]
    },
    {
     "data": {
      "text/plain": [
       "'./imputegap_assets/contamination/25_04_03_18_00_29_imputegap_plot.jpg'"
      ]
     },
     "execution_count": 17,
     "metadata": {},
     "output_type": "execute_result"
    }
   ],
   "execution_count": 17
  },
  {
   "metadata": {},
   "cell_type": "markdown",
   "source": "All missingness patterns developed in ImputeGAP are available in the ts.patterns module, which can be listed as follows:",
   "id": "c5a54eadc59c5ec3"
  },
  {
   "metadata": {
    "ExecuteTime": {
     "end_time": "2025-04-03T16:00:59.337780Z",
     "start_time": "2025-04-03T16:00:59.331083Z"
    }
   },
   "cell_type": "code",
   "source": "ts.patterns",
   "id": "5311abe4be4976cc",
   "outputs": [
    {
     "data": {
      "text/plain": [
       "['aligned',\n",
       " 'disjoint',\n",
       " 'distribution',\n",
       " 'gaussian',\n",
       " 'mcar',\n",
       " 'overlap',\n",
       " 'scattered']"
      ]
     },
     "execution_count": 18,
     "metadata": {},
     "output_type": "execute_result"
    }
   ],
   "execution_count": 18
  },
  {
   "metadata": {},
   "cell_type": "markdown",
   "source": "<h1>Imputation</h1>",
   "id": "291d61ca3a33a2c8"
  },
  {
   "metadata": {},
   "cell_type": "markdown",
   "source": [
    "In this section, we will illustrate how to impute the contaminated time series. Our library implements five families of imputation algorithms. Statistical, Machine Learning, Matrix Completion, Deep Learning, and Pattern Search.\n",
    "\n",
    "Let’s illustrate the imputation using the CDRec algorithm from the Matrix Completion family."
   ],
   "id": "c3520f324d353290"
  },
  {
   "metadata": {
    "ExecuteTime": {
     "end_time": "2025-04-03T16:01:05.254190Z",
     "start_time": "2025-04-03T16:01:00.977716Z"
    }
   },
   "cell_type": "code",
   "source": [
    "from imputegap.recovery.imputation import Imputation\n",
    "from imputegap.recovery.manager import TimeSeries\n",
    "from imputegap.tools import utils\n",
    "\n",
    "# initialize the time series object\n",
    "ts = TimeSeries()\n",
    "\n",
    "# load and normalize the dataset\n",
    "ts.load_series(utils.search_path(\"eeg-alcohol\"))\n",
    "ts.normalize(normalizer=\"z_score\")\n",
    "\n",
    "# contaminate the time series\n",
    "ts_m = ts.Contamination.mcar(ts.data)\n",
    "\n",
    "# impute the contaminated series\n",
    "imputer = Imputation.MatrixCompletion.CDRec(ts_m)\n",
    "imputer.impute()\n",
    "\n",
    "# compute and print the imputation metrics\n",
    "imputer.score(ts.data, imputer.recov_data)\n",
    "ts.print_results(imputer.metrics)\n",
    "\n",
    "# plot the recovered time series\n",
    "ts.plot(input_data=ts.data, incomp_data=ts_m, recov_data=imputer.recov_data, nbr_series=9, subplot=True, algorithm=imputer.algorithm, save_path=\"./imputegap_assets/imputation\")"
   ],
   "id": "8499277ebb566fa8",
   "outputs": [
    {
     "name": "stdout",
     "output_type": "stream",
     "text": [
      "\n",
      "(SYS) The time series have been loaded from /mnt/c/Users/nquen/switchdrive/MST_MasterThesis/imputegap/imputegap/dataset/eeg-alcohol.txt\n",
      "\n",
      "> logs: normalization (z_score) of the data - runtime: 0.0005 seconds\n",
      "\n",
      "(CONT) missigness pattern: MCAR\n",
      "\tselected series: ['52', '58', '0', '44', '5', '36', '16', '12', '25', '61', '56', '9', '40']\n",
      "\trate series impacted: 20.0%\n",
      "\tmissing rate per series: 20.0%\n",
      "\tblock size: 10\n",
      "\tstarting position: 25\n",
      "\tseed value: 42\n",
      "\n",
      "(IMPUTATION) CDRec: (64,256) for rank 3, epsilon 1e-06, and iterations 100.\n",
      "> logs: imputation cdrec - Execution Time: 0.4537 seconds.\n",
      "\n",
      "Results of the analysis :\n",
      "RMSE                 = 0.40395406855137334\n",
      "MAE                  = 0.3116556927747662\n",
      "MI                   = 0.8410754313179323\n",
      "CORRELATION          = 0.9127290819984344\n",
      "\n",
      "plots saved in  ./imputegap_assets/imputation/25_04_03_18_01_03_cdrec_plot.jpg\n"
     ]
    },
    {
     "data": {
      "text/plain": [
       "'./imputegap_assets/imputation/25_04_03_18_01_03_cdrec_plot.jpg'"
      ]
     },
     "execution_count": 19,
     "metadata": {},
     "output_type": "execute_result"
    }
   ],
   "execution_count": 19
  },
  {
   "metadata": {
    "ExecuteTime": {
     "end_time": "2025-04-03T16:01:07.333260Z",
     "start_time": "2025-04-03T16:01:07.327001Z"
    }
   },
   "cell_type": "code",
   "source": "imputer.recov_data",
   "id": "fc20ee107f0dc4e3",
   "outputs": [
    {
     "data": {
      "text/plain": [
       "array([[ 2.19032859,  1.94726033,  1.70419207, ...,  1.76492802,\n",
       "         1.54269325,  0.6481282 ],\n",
       "       [ 1.67052626,  1.5655748 ,  1.46051581, ...,  1.61805053,\n",
       "         1.61805053,  1.30298109],\n",
       "       [ 2.25875436,  2.19663981,  2.19663981, ...,  1.51299795,\n",
       "         1.26441248,  0.26994331],\n",
       "       ...,\n",
       "       [-0.88963417, -0.56993316,  0.07012397, ..., -0.0900541 ,\n",
       "        -0.0900541 ,  0.07012397],\n",
       "       [ 2.69887602,  2.1816959 ,  1.77939239, ...,  0.11274005,\n",
       "         0.22761665, -0.28956347],\n",
       "       [ 2.70885585,  2.18716136,  1.83928587, ...,  0.15808559,\n",
       "         0.27396493, -0.24772957]])"
      ]
     },
     "execution_count": 20,
     "metadata": {},
     "output_type": "execute_result"
    }
   ],
   "execution_count": 20
  },
  {
   "metadata": {},
   "cell_type": "markdown",
   "source": "Imputation can be performed using either default values or user-defined values. To specify the parameters, please use a dictionary in the following format:",
   "id": "afa708f34def6f2"
  },
  {
   "metadata": {
    "ExecuteTime": {
     "end_time": "2025-04-03T16:01:09.876372Z",
     "start_time": "2025-04-03T16:01:09.563139Z"
    }
   },
   "cell_type": "code",
   "source": [
    "config = {\"rank\": 5, \"epsilon\": 0.01, \"iterations\": 100}\n",
    "imputer.impute(params=config)"
   ],
   "id": "9b864d94ae8231c6",
   "outputs": [
    {
     "name": "stdout",
     "output_type": "stream",
     "text": [
      "\n",
      "(IMPUTATION) CDRec: (64,256) for rank 5, epsilon 0.01, and iterations 100.\n",
      "> logs: imputation cdrec - Execution Time: 0.3087 seconds.\n"
     ]
    },
    {
     "data": {
      "text/plain": [
       "<imputegap.recovery.imputation.Imputation.MatrixCompletion.CDRec at 0x7fb7dc331d90>"
      ]
     },
     "execution_count": 21,
     "metadata": {},
     "output_type": "execute_result"
    }
   ],
   "execution_count": 21
  },
  {
   "metadata": {},
   "cell_type": "markdown",
   "source": "All algorithms developed in ImputeGAP are available in the **ts.algorithms** module, which can be listed as follows:\n",
   "id": "1ed52a6fb7bcdeba"
  },
  {
   "metadata": {
    "ExecuteTime": {
     "end_time": "2025-04-03T16:01:16.362830Z",
     "start_time": "2025-04-03T16:01:16.356424Z"
    }
   },
   "cell_type": "code",
   "source": "ts.algorithms",
   "id": "10bd4489859543cb",
   "outputs": [
    {
     "data": {
      "text/plain": [
       "['BRITS',\n",
       " 'BayOTIDE',\n",
       " 'BitGraph',\n",
       " 'CDRec',\n",
       " 'DeepMVI',\n",
       " 'DynaMMo',\n",
       " 'GAIN',\n",
       " 'GRIN',\n",
       " 'GROUSE',\n",
       " 'HKMF_T',\n",
       " 'IIM',\n",
       " 'Interpolation',\n",
       " 'IterativeSVD',\n",
       " 'KNNImpute',\n",
       " 'MICE',\n",
       " 'MPIN',\n",
       " 'MRNN',\n",
       " 'MeanImpute',\n",
       " 'MeanImputeBySeries',\n",
       " 'MinImpute',\n",
       " 'MissForest',\n",
       " 'MissNet',\n",
       " 'PRISTI',\n",
       " 'ROSL',\n",
       " 'SPIRIT',\n",
       " 'STMVL',\n",
       " 'SVT',\n",
       " 'SoftImpute',\n",
       " 'TKCM',\n",
       " 'TRMF',\n",
       " 'XGBOOST',\n",
       " 'ZeroImpute']"
      ]
     },
     "execution_count": 22,
     "metadata": {},
     "output_type": "execute_result"
    }
   ],
   "execution_count": 22
  },
  {
   "metadata": {},
   "cell_type": "markdown",
   "source": "<h1>Parameter Tuning</h1>",
   "id": "e7e852f977e333b1"
  },
  {
   "metadata": {},
   "cell_type": "markdown",
   "source": "The Optimizer component manages algorithm configuration and hyperparameter tuning. To invoke the tuning process, users need to specify the optimization option during the Impute call by selecting the appropriate input for the algorithm. The parameters are defined by providing a dictionary containing the ground truth, the chosen optimizer, and the optimizer’s options. Several search algorithms are available, including those provided by Ray Tune.",
   "id": "bf24702a50be43e4"
  },
  {
   "metadata": {
    "ExecuteTime": {
     "end_time": "2025-04-03T15:52:18.839697Z",
     "start_time": "2025-04-03T15:51:53.593912Z"
    }
   },
   "cell_type": "code",
   "source": [
    "from imputegap.recovery.imputation import Imputation\n",
    "from imputegap.recovery.manager import TimeSeries\n",
    "from imputegap.tools import utils\n",
    "\n",
    "# initialize the time series object\n",
    "ts = TimeSeries()\n",
    "\n",
    "# load and normalize the dataset\n",
    "ts.load_series(utils.search_path(\"eeg-alcohol\"))\n",
    "ts.normalize(normalizer=\"z_score\")\n",
    "\n",
    "# contaminate and impute the time series\n",
    "ts_m = ts.Contamination.mcar(ts.data)\n",
    "imputer = Imputation.MatrixCompletion.CDRec(ts_m)\n",
    "\n",
    "# use Ray Tune to fine tune the imputation algorithm\n",
    "imputer.impute(user_def=False, params={\"input_data\": ts.data, \"optimizer\": \"ray_tune\"})\n",
    "\n",
    "# compute the imputation metrics with optimized parameter values\n",
    "imputer.score(ts.data, imputer.recov_data)\n",
    "\n",
    "# compute the imputation metrics with default parameter values\n",
    "imputer_def = Imputation.MatrixCompletion.CDRec(ts_m).impute()\n",
    "imputer_def.score(ts.data, imputer_def.recov_data)\n",
    "\n",
    "# print the imputation metrics with default and optimized parameter values\n",
    "ts.print_results(imputer_def.metrics, text=\"Default values\")\n",
    "ts.print_results(imputer.metrics, text=\"Optimized values\")\n",
    "\n",
    "# plot the recovered time series\n",
    "ts.plot(input_data=ts.data, incomp_data=ts_m, recov_data=imputer.recov_data, nbr_series=9, subplot=True, algorithm=imputer.algorithm, save_path=\"./imputegap_assets/imputation\")\n",
    "\n",
    "# save hyperparameters\n",
    "utils.save_optimization(optimal_params=imputer.parameters, algorithm=imputer.algorithm, dataset=\"eeg-alcohol\", optimizer=\"ray_tune\")"
   ],
   "id": "c13412da791c6f91",
   "outputs": [
    {
     "name": "stderr",
     "output_type": "stream",
     "text": [
      "2025-04-03 15:51:53,660\tINFO worker.py:1654 -- Connecting to existing Ray cluster at address: 134.21.219.180:6379...\n",
      "2025-04-03 15:51:53,678\tINFO worker.py:1841 -- Connected to Ray cluster.\n",
      "2025-04-03 15:51:53,703\tINFO tune.py:616 -- [output] This uses the legacy output and progress reporter, as Jupyter notebooks are not supported by the new engine, yet. For more information, please see https://github.com/ray-project/ray/issues/36949\n"
     ]
    },
    {
     "name": "stdout",
     "output_type": "stream",
     "text": [
      "\n",
      "(SYS) The time series have been loaded from /tmp/pycharm_project_615/imputegap/dataset/eeg-alcohol.txt\n",
      "\n",
      "> logs: normalization (z_score) of the data - runtime: 0.0002 seconds\n",
      "\n",
      "(CONT) missigness pattern: MCAR\n",
      "\tselected series: ['52', '58', '0', '44', '5', '36', '16', '12', '25', '61', '56', '9', '40']\n",
      "\trate series impacted: 20.0%\n",
      "\tmissing rate per series: 20.0%\n",
      "\tblock size: 10\n",
      "\tstarting position: 25\n",
      "\tseed value: 42\n",
      "\n",
      "(OPTI) optimizer ray_tune has been called with cdrec ...\n",
      "\n",
      "\n",
      "\t\t(OPTI) > Ray Total accessible CPU cores for parallelization: 63.0\n",
      "\n",
      "\t\t(OPTI) > Ray Total accessible memory for parallelization: 341.62 GB\n",
      "\n",
      "\t\t(OPTI) > Ray tune max_concurrent_trials 63.0, for 1 calls and metric RMSE\n",
      "\n",
      "\n",
      "\t\t(OPTI) > Ray tune - SEARCH SPACE: {'rank': {'grid_search': [2, 3, 4, 5, 6, 7, 8, 9, 10, 11, 12, 13, 14, 15]}, 'eps': <ray.tune.search.sample.Float object at 0x7f2d5a7c12a0>, 'iters': {'grid_search': [50, 100, 150]}}\n",
      "\n"
     ]
    },
    {
     "data": {
      "text/plain": [
       "<IPython.core.display.HTML object>"
      ],
      "text/html": [
       "<div class=\"tuneStatus\">\n",
       "  <div style=\"display: flex;flex-direction: row\">\n",
       "    <div style=\"display: flex;flex-direction: column;\">\n",
       "      <h3>Tune Status</h3>\n",
       "      <table>\n",
       "<tbody>\n",
       "<tr><td>Current time:</td><td>2025-04-03 15:51:54</td></tr>\n",
       "<tr><td>Running for: </td><td>00:00:00.34        </td></tr>\n",
       "<tr><td>Memory:      </td><td>10.5/503.6 GiB     </td></tr>\n",
       "</tbody>\n",
       "</table>\n",
       "    </div>\n",
       "    <div class=\"vDivider\"></div>\n",
       "    <div class=\"systemInfo\">\n",
       "      <h3>System Info</h3>\n",
       "      Using FIFO scheduling algorithm.<br>Logical resource usage: 0/64 CPUs, 0/0 GPUs\n",
       "    </div>\n",
       "    <div class=\"vDivider\"></div>\n",
       "<div class=\"messages\">\n",
       "  <h3>Messages</h3>\n",
       "  \n",
       "  ... 22 more trials not shown (22 PENDING)\n",
       "  \n",
       "</div>\n",
       "<style>\n",
       ".messages {\n",
       "  color: var(--jp-ui-font-color1);\n",
       "  display: flex;\n",
       "  flex-direction: column;\n",
       "  padding-left: 1em;\n",
       "  overflow-y: auto;\n",
       "}\n",
       ".messages h3 {\n",
       "  font-weight: bold;\n",
       "}\n",
       ".vDivider {\n",
       "  border-left-width: var(--jp-border-width);\n",
       "  border-left-color: var(--jp-border-color0);\n",
       "  border-left-style: solid;\n",
       "  margin: 0.5em 1em 0.5em 1em;\n",
       "}\n",
       "</style>\n",
       "\n",
       "  </div>\n",
       "  <div class=\"hDivider\"></div>\n",
       "  <div class=\"trialStatus\">\n",
       "    <h3>Trial Status</h3>\n",
       "    <table>\n",
       "<thead>\n",
       "<tr><th>Trial name                   </th><th>status  </th><th>loc  </th><th style=\"text-align: right;\">        eps</th><th style=\"text-align: right;\">  iters</th><th style=\"text-align: right;\">  rank</th></tr>\n",
       "</thead>\n",
       "<tbody>\n",
       "<tr><td>objective_wrapper_9069f_00000</td><td>PENDING </td><td>     </td><td style=\"text-align: right;\">0.0850788  </td><td style=\"text-align: right;\">     50</td><td style=\"text-align: right;\">     2</td></tr>\n",
       "<tr><td>objective_wrapper_9069f_00001</td><td>PENDING </td><td>     </td><td style=\"text-align: right;\">0.000569628</td><td style=\"text-align: right;\">    100</td><td style=\"text-align: right;\">     2</td></tr>\n",
       "<tr><td>objective_wrapper_9069f_00002</td><td>PENDING </td><td>     </td><td style=\"text-align: right;\">0.000140213</td><td style=\"text-align: right;\">    150</td><td style=\"text-align: right;\">     2</td></tr>\n",
       "<tr><td>objective_wrapper_9069f_00003</td><td>PENDING </td><td>     </td><td style=\"text-align: right;\">0.000923155</td><td style=\"text-align: right;\">     50</td><td style=\"text-align: right;\">     3</td></tr>\n",
       "<tr><td>objective_wrapper_9069f_00004</td><td>PENDING </td><td>     </td><td style=\"text-align: right;\">0.0932171  </td><td style=\"text-align: right;\">    100</td><td style=\"text-align: right;\">     3</td></tr>\n",
       "<tr><td>objective_wrapper_9069f_00005</td><td>PENDING </td><td>     </td><td style=\"text-align: right;\">0.000102624</td><td style=\"text-align: right;\">    150</td><td style=\"text-align: right;\">     3</td></tr>\n",
       "<tr><td>objective_wrapper_9069f_00006</td><td>PENDING </td><td>     </td><td style=\"text-align: right;\">1.10298e-05</td><td style=\"text-align: right;\">     50</td><td style=\"text-align: right;\">     4</td></tr>\n",
       "<tr><td>objective_wrapper_9069f_00007</td><td>PENDING </td><td>     </td><td style=\"text-align: right;\">0.0187104  </td><td style=\"text-align: right;\">    100</td><td style=\"text-align: right;\">     4</td></tr>\n",
       "<tr><td>objective_wrapper_9069f_00008</td><td>PENDING </td><td>     </td><td style=\"text-align: right;\">0.0903378  </td><td style=\"text-align: right;\">    150</td><td style=\"text-align: right;\">     4</td></tr>\n",
       "<tr><td>objective_wrapper_9069f_00009</td><td>PENDING </td><td>     </td><td style=\"text-align: right;\">4.01629e-06</td><td style=\"text-align: right;\">     50</td><td style=\"text-align: right;\">     5</td></tr>\n",
       "<tr><td>objective_wrapper_9069f_00010</td><td>PENDING </td><td>     </td><td style=\"text-align: right;\">2.74944e-05</td><td style=\"text-align: right;\">    100</td><td style=\"text-align: right;\">     5</td></tr>\n",
       "<tr><td>objective_wrapper_9069f_00011</td><td>PENDING </td><td>     </td><td style=\"text-align: right;\">7.10938e-06</td><td style=\"text-align: right;\">    150</td><td style=\"text-align: right;\">     5</td></tr>\n",
       "<tr><td>objective_wrapper_9069f_00012</td><td>PENDING </td><td>     </td><td style=\"text-align: right;\">0.000122363</td><td style=\"text-align: right;\">     50</td><td style=\"text-align: right;\">     6</td></tr>\n",
       "<tr><td>objective_wrapper_9069f_00013</td><td>PENDING </td><td>     </td><td style=\"text-align: right;\">0.000503623</td><td style=\"text-align: right;\">    100</td><td style=\"text-align: right;\">     6</td></tr>\n",
       "<tr><td>objective_wrapper_9069f_00014</td><td>PENDING </td><td>     </td><td style=\"text-align: right;\">0.0311142  </td><td style=\"text-align: right;\">    150</td><td style=\"text-align: right;\">     6</td></tr>\n",
       "<tr><td>objective_wrapper_9069f_00015</td><td>PENDING </td><td>     </td><td style=\"text-align: right;\">0.00807022 </td><td style=\"text-align: right;\">     50</td><td style=\"text-align: right;\">     7</td></tr>\n",
       "<tr><td>objective_wrapper_9069f_00016</td><td>PENDING </td><td>     </td><td style=\"text-align: right;\">0.00531583 </td><td style=\"text-align: right;\">    100</td><td style=\"text-align: right;\">     7</td></tr>\n",
       "<tr><td>objective_wrapper_9069f_00017</td><td>PENDING </td><td>     </td><td style=\"text-align: right;\">0.000130092</td><td style=\"text-align: right;\">    150</td><td style=\"text-align: right;\">     7</td></tr>\n",
       "<tr><td>objective_wrapper_9069f_00018</td><td>PENDING </td><td>     </td><td style=\"text-align: right;\">0.111863   </td><td style=\"text-align: right;\">     50</td><td style=\"text-align: right;\">     8</td></tr>\n",
       "<tr><td>objective_wrapper_9069f_00019</td><td>PENDING </td><td>     </td><td style=\"text-align: right;\">0.000672548</td><td style=\"text-align: right;\">    100</td><td style=\"text-align: right;\">     8</td></tr>\n",
       "</tbody>\n",
       "</table>\n",
       "  </div>\n",
       "</div>\n",
       "<style>\n",
       ".tuneStatus {\n",
       "  color: var(--jp-ui-font-color1);\n",
       "}\n",
       ".tuneStatus .systemInfo {\n",
       "  display: flex;\n",
       "  flex-direction: column;\n",
       "}\n",
       ".tuneStatus td {\n",
       "  white-space: nowrap;\n",
       "}\n",
       ".tuneStatus .trialStatus {\n",
       "  display: flex;\n",
       "  flex-direction: column;\n",
       "}\n",
       ".tuneStatus h3 {\n",
       "  font-weight: bold;\n",
       "}\n",
       ".tuneStatus .hDivider {\n",
       "  border-bottom-width: var(--jp-border-width);\n",
       "  border-bottom-color: var(--jp-border-color0);\n",
       "  border-bottom-style: solid;\n",
       "}\n",
       ".tuneStatus .vDivider {\n",
       "  border-left-width: var(--jp-border-width);\n",
       "  border-left-color: var(--jp-border-color0);\n",
       "  border-left-style: solid;\n",
       "  margin: 0.5em 1em 0.5em 1em;\n",
       "}\n",
       "</style>\n"
      ]
     },
     "metadata": {},
     "output_type": "display_data"
    },
    {
     "name": "stdout",
     "output_type": "stream",
     "text": [
      "\u001B[36m(objective_wrapper pid=4153593)\u001B[0m \n",
      "\u001B[36m(objective_wrapper pid=4153593)\u001B[0m \n",
      "\u001B[36m(objective_wrapper pid=4153593)\u001B[0m \n",
      "\u001B[36m(objective_wrapper pid=4153593)\u001B[0m PARAMS  {'rank': 3, 'eps': 0.0009231551216708345, 'iters': 50}\n",
      "\u001B[36m(objective_wrapper pid=4153593)\u001B[0m \n",
      "\u001B[36m(objective_wrapper pid=4153593)\u001B[0m (IMPUTATION) CDRec: (64,256) for rank 3, epsilon 0.0009231551216708345, and iterations 50.\n"
     ]
    },
    {
     "data": {
      "text/plain": [
       "<IPython.core.display.HTML object>"
      ],
      "text/html": [
       "<div class=\"tuneStatus\">\n",
       "  <div style=\"display: flex;flex-direction: row\">\n",
       "    <div style=\"display: flex;flex-direction: column;\">\n",
       "      <h3>Tune Status</h3>\n",
       "      <table>\n",
       "<tbody>\n",
       "<tr><td>Current time:</td><td>2025-04-03 15:52:15</td></tr>\n",
       "<tr><td>Running for: </td><td>00:00:21.98        </td></tr>\n",
       "<tr><td>Memory:      </td><td>12.0/503.6 GiB     </td></tr>\n",
       "</tbody>\n",
       "</table>\n",
       "    </div>\n",
       "    <div class=\"vDivider\"></div>\n",
       "    <div class=\"systemInfo\">\n",
       "      <h3>System Info</h3>\n",
       "      Using FIFO scheduling algorithm.<br>Logical resource usage: 1.0/64 CPUs, 0/0 GPUs\n",
       "    </div>\n",
       "    \n",
       "  </div>\n",
       "  <div class=\"hDivider\"></div>\n",
       "  <div class=\"trialStatus\">\n",
       "    <h3>Trial Status</h3>\n",
       "    <table>\n",
       "<thead>\n",
       "<tr><th>Trial name                   </th><th>status    </th><th>loc                   </th><th style=\"text-align: right;\">        eps</th><th style=\"text-align: right;\">  iters</th><th style=\"text-align: right;\">  rank</th><th style=\"text-align: right;\">  iter</th><th style=\"text-align: right;\">  total time (s)</th><th style=\"text-align: right;\">    RMSE</th></tr>\n",
       "</thead>\n",
       "<tbody>\n",
       "<tr><td>objective_wrapper_9069f_00000</td><td>TERMINATED</td><td>134.21.219.180:4153455</td><td style=\"text-align: right;\">0.0850788  </td><td style=\"text-align: right;\">     50</td><td style=\"text-align: right;\">     2</td><td style=\"text-align: right;\">     1</td><td style=\"text-align: right;\">       0.532666 </td><td style=\"text-align: right;\">0.54874 </td></tr>\n",
       "<tr><td>objective_wrapper_9069f_00001</td><td>TERMINATED</td><td>134.21.219.180:4153206</td><td style=\"text-align: right;\">0.000569628</td><td style=\"text-align: right;\">    100</td><td style=\"text-align: right;\">     2</td><td style=\"text-align: right;\">     1</td><td style=\"text-align: right;\">       0.0249593</td><td style=\"text-align: right;\">0.543549</td></tr>\n",
       "<tr><td>objective_wrapper_9069f_00002</td><td>TERMINATED</td><td>134.21.219.180:4153201</td><td style=\"text-align: right;\">0.000140213</td><td style=\"text-align: right;\">    150</td><td style=\"text-align: right;\">     2</td><td style=\"text-align: right;\">     1</td><td style=\"text-align: right;\">       0.335326 </td><td style=\"text-align: right;\">0.543543</td></tr>\n",
       "<tr><td>objective_wrapper_9069f_00003</td><td>TERMINATED</td><td>134.21.219.180:4153593</td><td style=\"text-align: right;\">0.000923155</td><td style=\"text-align: right;\">     50</td><td style=\"text-align: right;\">     3</td><td style=\"text-align: right;\">     1</td><td style=\"text-align: right;\">       0.569868 </td><td style=\"text-align: right;\">0.40398 </td></tr>\n",
       "<tr><td>objective_wrapper_9069f_00004</td><td>TERMINATED</td><td>134.21.219.180:4153409</td><td style=\"text-align: right;\">0.0932171  </td><td style=\"text-align: right;\">    100</td><td style=\"text-align: right;\">     3</td><td style=\"text-align: right;\">     1</td><td style=\"text-align: right;\">       0.466867 </td><td style=\"text-align: right;\">0.405368</td></tr>\n",
       "<tr><td>objective_wrapper_9069f_00005</td><td>TERMINATED</td><td>134.21.219.180:4153832</td><td style=\"text-align: right;\">0.000102624</td><td style=\"text-align: right;\">    150</td><td style=\"text-align: right;\">     3</td><td style=\"text-align: right;\">     1</td><td style=\"text-align: right;\">       0.0128779</td><td style=\"text-align: right;\">0.403958</td></tr>\n",
       "<tr><td>objective_wrapper_9069f_00006</td><td>TERMINATED</td><td>134.21.219.180:4153506</td><td style=\"text-align: right;\">1.10298e-05</td><td style=\"text-align: right;\">     50</td><td style=\"text-align: right;\">     4</td><td style=\"text-align: right;\">     1</td><td style=\"text-align: right;\">       0.0532017</td><td style=\"text-align: right;\">0.352783</td></tr>\n",
       "<tr><td>objective_wrapper_9069f_00007</td><td>TERMINATED</td><td>134.21.219.180:4153098</td><td style=\"text-align: right;\">0.0187104  </td><td style=\"text-align: right;\">    100</td><td style=\"text-align: right;\">     4</td><td style=\"text-align: right;\">     1</td><td style=\"text-align: right;\">       0.0353734</td><td style=\"text-align: right;\">0.352575</td></tr>\n",
       "<tr><td>objective_wrapper_9069f_00008</td><td>TERMINATED</td><td>134.21.219.180:4154110</td><td style=\"text-align: right;\">0.0903378  </td><td style=\"text-align: right;\">    150</td><td style=\"text-align: right;\">     4</td><td style=\"text-align: right;\">     1</td><td style=\"text-align: right;\">       0.278268 </td><td style=\"text-align: right;\">0.354158</td></tr>\n",
       "<tr><td>objective_wrapper_9069f_00009</td><td>TERMINATED</td><td>134.21.219.180:4153500</td><td style=\"text-align: right;\">4.01629e-06</td><td style=\"text-align: right;\">     50</td><td style=\"text-align: right;\">     5</td><td style=\"text-align: right;\">     1</td><td style=\"text-align: right;\">       0.039011 </td><td style=\"text-align: right;\">0.309537</td></tr>\n",
       "<tr><td>objective_wrapper_9069f_00010</td><td>TERMINATED</td><td>134.21.219.180:4153198</td><td style=\"text-align: right;\">2.74944e-05</td><td style=\"text-align: right;\">    100</td><td style=\"text-align: right;\">     5</td><td style=\"text-align: right;\">     1</td><td style=\"text-align: right;\">       0.0620353</td><td style=\"text-align: right;\">0.309534</td></tr>\n",
       "<tr><td>objective_wrapper_9069f_00011</td><td>TERMINATED</td><td>134.21.219.180:4153682</td><td style=\"text-align: right;\">7.10938e-06</td><td style=\"text-align: right;\">    150</td><td style=\"text-align: right;\">     5</td><td style=\"text-align: right;\">     1</td><td style=\"text-align: right;\">       0.0424206</td><td style=\"text-align: right;\">0.309537</td></tr>\n",
       "<tr><td>objective_wrapper_9069f_00012</td><td>TERMINATED</td><td>134.21.219.180:4153291</td><td style=\"text-align: right;\">0.000122363</td><td style=\"text-align: right;\">     50</td><td style=\"text-align: right;\">     6</td><td style=\"text-align: right;\">     1</td><td style=\"text-align: right;\">       0.0629063</td><td style=\"text-align: right;\">0.285171</td></tr>\n",
       "<tr><td>objective_wrapper_9069f_00013</td><td>TERMINATED</td><td>134.21.219.180:4153684</td><td style=\"text-align: right;\">0.000503623</td><td style=\"text-align: right;\">    100</td><td style=\"text-align: right;\">     6</td><td style=\"text-align: right;\">     1</td><td style=\"text-align: right;\">       0.61325  </td><td style=\"text-align: right;\">0.285166</td></tr>\n",
       "<tr><td>objective_wrapper_9069f_00014</td><td>TERMINATED</td><td>134.21.219.180:4154207</td><td style=\"text-align: right;\">0.0311142  </td><td style=\"text-align: right;\">    150</td><td style=\"text-align: right;\">     6</td><td style=\"text-align: right;\">     1</td><td style=\"text-align: right;\">       0.315495 </td><td style=\"text-align: right;\">0.29061 </td></tr>\n",
       "<tr><td>objective_wrapper_9069f_00015</td><td>TERMINATED</td><td>134.21.219.180:4153820</td><td style=\"text-align: right;\">0.00807022 </td><td style=\"text-align: right;\">     50</td><td style=\"text-align: right;\">     7</td><td style=\"text-align: right;\">     1</td><td style=\"text-align: right;\">       0.0323465</td><td style=\"text-align: right;\">0.256466</td></tr>\n",
       "<tr><td>objective_wrapper_9069f_00016</td><td>TERMINATED</td><td>134.21.219.180:4153502</td><td style=\"text-align: right;\">0.00531583 </td><td style=\"text-align: right;\">    100</td><td style=\"text-align: right;\">     7</td><td style=\"text-align: right;\">     1</td><td style=\"text-align: right;\">       0.547411 </td><td style=\"text-align: right;\">0.255803</td></tr>\n",
       "<tr><td>objective_wrapper_9069f_00017</td><td>TERMINATED</td><td>134.21.219.180:4154022</td><td style=\"text-align: right;\">0.000130092</td><td style=\"text-align: right;\">    150</td><td style=\"text-align: right;\">     7</td><td style=\"text-align: right;\">     1</td><td style=\"text-align: right;\">       0.508045 </td><td style=\"text-align: right;\">0.255293</td></tr>\n",
       "<tr><td>objective_wrapper_9069f_00018</td><td>TERMINATED</td><td>134.21.219.180:4153975</td><td style=\"text-align: right;\">0.111863   </td><td style=\"text-align: right;\">     50</td><td style=\"text-align: right;\">     8</td><td style=\"text-align: right;\">     1</td><td style=\"text-align: right;\">       0.0445826</td><td style=\"text-align: right;\">0.269247</td></tr>\n",
       "<tr><td>objective_wrapper_9069f_00019</td><td>TERMINATED</td><td>134.21.219.180:4153771</td><td style=\"text-align: right;\">0.000672548</td><td style=\"text-align: right;\">    100</td><td style=\"text-align: right;\">     8</td><td style=\"text-align: right;\">     1</td><td style=\"text-align: right;\">       0.171705 </td><td style=\"text-align: right;\">0.245866</td></tr>\n",
       "<tr><td>objective_wrapper_9069f_00020</td><td>TERMINATED</td><td>134.21.219.180:4154140</td><td style=\"text-align: right;\">0.749255   </td><td style=\"text-align: right;\">    150</td><td style=\"text-align: right;\">     8</td><td style=\"text-align: right;\">     1</td><td style=\"text-align: right;\">       0.245384 </td><td style=\"text-align: right;\">0.480852</td></tr>\n",
       "<tr><td>objective_wrapper_9069f_00021</td><td>TERMINATED</td><td>134.21.219.180:4154137</td><td style=\"text-align: right;\">0.00638047 </td><td style=\"text-align: right;\">     50</td><td style=\"text-align: right;\">     9</td><td style=\"text-align: right;\">     1</td><td style=\"text-align: right;\">       0.438189 </td><td style=\"text-align: right;\">0.237741</td></tr>\n",
       "<tr><td>objective_wrapper_9069f_00022</td><td>TERMINATED</td><td>134.21.219.180:4154523</td><td style=\"text-align: right;\">5.72253e-06</td><td style=\"text-align: right;\">    100</td><td style=\"text-align: right;\">     9</td><td style=\"text-align: right;\">     1</td><td style=\"text-align: right;\">       0.673115 </td><td style=\"text-align: right;\">0.232108</td></tr>\n",
       "<tr><td>objective_wrapper_9069f_00023</td><td>TERMINATED</td><td>134.21.219.180:4154258</td><td style=\"text-align: right;\">0.0114042  </td><td style=\"text-align: right;\">    150</td><td style=\"text-align: right;\">     9</td><td style=\"text-align: right;\">     1</td><td style=\"text-align: right;\">       0.415892 </td><td style=\"text-align: right;\">0.237934</td></tr>\n",
       "<tr><td>objective_wrapper_9069f_00024</td><td>TERMINATED</td><td>134.21.219.180:4154392</td><td style=\"text-align: right;\">8.92533e-05</td><td style=\"text-align: right;\">     50</td><td style=\"text-align: right;\">    10</td><td style=\"text-align: right;\">     1</td><td style=\"text-align: right;\">       0.10545  </td><td style=\"text-align: right;\">0.2374  </td></tr>\n",
       "<tr><td>objective_wrapper_9069f_00025</td><td>TERMINATED</td><td>134.21.219.180:4154470</td><td style=\"text-align: right;\">0.0131209  </td><td style=\"text-align: right;\">    100</td><td style=\"text-align: right;\">    10</td><td style=\"text-align: right;\">     1</td><td style=\"text-align: right;\">       0.760883 </td><td style=\"text-align: right;\">0.221939</td></tr>\n",
       "<tr><td>objective_wrapper_9069f_00026</td><td>TERMINATED</td><td>134.21.219.180:4154495</td><td style=\"text-align: right;\">2.61726e-06</td><td style=\"text-align: right;\">    150</td><td style=\"text-align: right;\">    10</td><td style=\"text-align: right;\">     1</td><td style=\"text-align: right;\">       0.189766 </td><td style=\"text-align: right;\">0.237472</td></tr>\n",
       "<tr><td>objective_wrapper_9069f_00027</td><td>TERMINATED</td><td>134.21.219.180:4154004</td><td style=\"text-align: right;\">1.12018e-05</td><td style=\"text-align: right;\">     50</td><td style=\"text-align: right;\">    11</td><td style=\"text-align: right;\">     1</td><td style=\"text-align: right;\">       1.1417   </td><td style=\"text-align: right;\">0.216534</td></tr>\n",
       "<tr><td>objective_wrapper_9069f_00028</td><td>TERMINATED</td><td>134.21.219.180:4154494</td><td style=\"text-align: right;\">0.136277   </td><td style=\"text-align: right;\">    100</td><td style=\"text-align: right;\">    11</td><td style=\"text-align: right;\">     1</td><td style=\"text-align: right;\">       0.0284717</td><td style=\"text-align: right;\">0.306039</td></tr>\n",
       "<tr><td>objective_wrapper_9069f_00029</td><td>TERMINATED</td><td>134.21.219.180:4154591</td><td style=\"text-align: right;\">2.30716e-05</td><td style=\"text-align: right;\">    150</td><td style=\"text-align: right;\">    11</td><td style=\"text-align: right;\">     1</td><td style=\"text-align: right;\">       0.119302 </td><td style=\"text-align: right;\">0.216522</td></tr>\n",
       "<tr><td>objective_wrapper_9069f_00030</td><td>TERMINATED</td><td>134.21.219.180:4154365</td><td style=\"text-align: right;\">0.105256   </td><td style=\"text-align: right;\">     50</td><td style=\"text-align: right;\">    12</td><td style=\"text-align: right;\">     1</td><td style=\"text-align: right;\">       0.0816669</td><td style=\"text-align: right;\">0.339198</td></tr>\n",
       "<tr><td>objective_wrapper_9069f_00031</td><td>TERMINATED</td><td>134.21.219.180:4155115</td><td style=\"text-align: right;\">4.73867e-05</td><td style=\"text-align: right;\">    100</td><td style=\"text-align: right;\">    12</td><td style=\"text-align: right;\">     1</td><td style=\"text-align: right;\">       0.220007 </td><td style=\"text-align: right;\">0.25586 </td></tr>\n",
       "<tr><td>objective_wrapper_9069f_00032</td><td>TERMINATED</td><td>134.21.219.180:4154994</td><td style=\"text-align: right;\">0.00719932 </td><td style=\"text-align: right;\">    150</td><td style=\"text-align: right;\">    12</td><td style=\"text-align: right;\">     1</td><td style=\"text-align: right;\">       0.0545981</td><td style=\"text-align: right;\">0.248748</td></tr>\n",
       "<tr><td>objective_wrapper_9069f_00033</td><td>TERMINATED</td><td>134.21.219.180:4154329</td><td style=\"text-align: right;\">0.0146185  </td><td style=\"text-align: right;\">     50</td><td style=\"text-align: right;\">    13</td><td style=\"text-align: right;\">     1</td><td style=\"text-align: right;\">       0.10041  </td><td style=\"text-align: right;\">0.245311</td></tr>\n",
       "<tr><td>objective_wrapper_9069f_00034</td><td>TERMINATED</td><td>134.21.219.180:4154233</td><td style=\"text-align: right;\">0.00119105 </td><td style=\"text-align: right;\">    100</td><td style=\"text-align: right;\">    13</td><td style=\"text-align: right;\">     1</td><td style=\"text-align: right;\">       0.168415 </td><td style=\"text-align: right;\">0.249595</td></tr>\n",
       "<tr><td>objective_wrapper_9069f_00035</td><td>TERMINATED</td><td>134.21.219.180:4154435</td><td style=\"text-align: right;\">6.78991e-05</td><td style=\"text-align: right;\">    150</td><td style=\"text-align: right;\">    13</td><td style=\"text-align: right;\">     1</td><td style=\"text-align: right;\">       0.141031 </td><td style=\"text-align: right;\">0.252392</td></tr>\n",
       "<tr><td>objective_wrapper_9069f_00036</td><td>TERMINATED</td><td>134.21.219.180:4155112</td><td style=\"text-align: right;\">1.88741e-05</td><td style=\"text-align: right;\">     50</td><td style=\"text-align: right;\">    14</td><td style=\"text-align: right;\">     1</td><td style=\"text-align: right;\">       0.0438578</td><td style=\"text-align: right;\">0.276289</td></tr>\n",
       "<tr><td>objective_wrapper_9069f_00037</td><td>TERMINATED</td><td>134.21.219.180:4155567</td><td style=\"text-align: right;\">1.58174e-06</td><td style=\"text-align: right;\">    100</td><td style=\"text-align: right;\">    14</td><td style=\"text-align: right;\">     1</td><td style=\"text-align: right;\">       0.079113 </td><td style=\"text-align: right;\">0.276365</td></tr>\n",
       "<tr><td>objective_wrapper_9069f_00038</td><td>TERMINATED</td><td>134.21.219.180:4156172</td><td style=\"text-align: right;\">6.66313e-05</td><td style=\"text-align: right;\">    150</td><td style=\"text-align: right;\">    14</td><td style=\"text-align: right;\">     1</td><td style=\"text-align: right;\">       0.108874 </td><td style=\"text-align: right;\">0.276082</td></tr>\n",
       "<tr><td>objective_wrapper_9069f_00039</td><td>TERMINATED</td><td>134.21.219.180:4156387</td><td style=\"text-align: right;\">0.00829806 </td><td style=\"text-align: right;\">     50</td><td style=\"text-align: right;\">    15</td><td style=\"text-align: right;\">     1</td><td style=\"text-align: right;\">       0.114923 </td><td style=\"text-align: right;\">0.260756</td></tr>\n",
       "<tr><td>objective_wrapper_9069f_00040</td><td>TERMINATED</td><td>134.21.219.180:4156433</td><td style=\"text-align: right;\">0.426412   </td><td style=\"text-align: right;\">    100</td><td style=\"text-align: right;\">    15</td><td style=\"text-align: right;\">     1</td><td style=\"text-align: right;\">       0.0390654</td><td style=\"text-align: right;\">0.732287</td></tr>\n",
       "<tr><td>objective_wrapper_9069f_00041</td><td>TERMINATED</td><td>134.21.219.180:4157369</td><td style=\"text-align: right;\">0.168743   </td><td style=\"text-align: right;\">    150</td><td style=\"text-align: right;\">    15</td><td style=\"text-align: right;\">     1</td><td style=\"text-align: right;\">       0.432619 </td><td style=\"text-align: right;\">0.496245</td></tr>\n",
       "</tbody>\n",
       "</table>\n",
       "  </div>\n",
       "</div>\n",
       "<style>\n",
       ".tuneStatus {\n",
       "  color: var(--jp-ui-font-color1);\n",
       "}\n",
       ".tuneStatus .systemInfo {\n",
       "  display: flex;\n",
       "  flex-direction: column;\n",
       "}\n",
       ".tuneStatus td {\n",
       "  white-space: nowrap;\n",
       "}\n",
       ".tuneStatus .trialStatus {\n",
       "  display: flex;\n",
       "  flex-direction: column;\n",
       "}\n",
       ".tuneStatus h3 {\n",
       "  font-weight: bold;\n",
       "}\n",
       ".tuneStatus .hDivider {\n",
       "  border-bottom-width: var(--jp-border-width);\n",
       "  border-bottom-color: var(--jp-border-color0);\n",
       "  border-bottom-style: solid;\n",
       "}\n",
       ".tuneStatus .vDivider {\n",
       "  border-left-width: var(--jp-border-width);\n",
       "  border-left-color: var(--jp-border-color0);\n",
       "  border-left-style: solid;\n",
       "  margin: 0.5em 1em 0.5em 1em;\n",
       "}\n",
       "</style>\n"
      ]
     },
     "metadata": {},
     "output_type": "display_data"
    },
    {
     "name": "stdout",
     "output_type": "stream",
     "text": [
      "\u001B[36m(objective_wrapper pid=4153593)\u001B[0m > logs: imputation cdrec - Execution Time: 0.1568 seconds.\n",
      "\u001B[36m(objective_wrapper pid=4157369)\u001B[0m \n",
      "\u001B[36m(objective_wrapper pid=4157369)\u001B[0m \n",
      "\u001B[36m(objective_wrapper pid=4157369)\u001B[0m \n",
      "\u001B[36m(objective_wrapper pid=4157369)\u001B[0m \n",
      "\u001B[36m(objective_wrapper pid=4154329)\u001B[0m \n",
      "\u001B[36m(objective_wrapper pid=4154329)\u001B[0m \n",
      "\u001B[36m(objective_wrapper pid=4154329)\u001B[0m \n",
      "\u001B[36m(objective_wrapper pid=4154329)\u001B[0m \n",
      "\u001B[36m(objective_wrapper pid=4153198)\u001B[0m \n",
      "\u001B[36m(objective_wrapper pid=4153198)\u001B[0m \n",
      "\u001B[36m(objective_wrapper pid=4153198)\u001B[0m \n",
      "\u001B[36m(objective_wrapper pid=4153198)\u001B[0m \n",
      "\u001B[36m(objective_wrapper pid=4153291)\u001B[0m \n",
      "\u001B[36m(objective_wrapper pid=4153291)\u001B[0m \n",
      "\u001B[36m(objective_wrapper pid=4153291)\u001B[0m \n",
      "\u001B[36m(objective_wrapper pid=4153291)\u001B[0m \n",
      "\u001B[36m(objective_wrapper pid=4154137)\u001B[0m \n",
      "\u001B[36m(objective_wrapper pid=4154137)\u001B[0m \n",
      "\u001B[36m(objective_wrapper pid=4154137)\u001B[0m \n",
      "\u001B[36m(objective_wrapper pid=4154137)\u001B[0m \n",
      "\u001B[36m(objective_wrapper pid=4154365)\u001B[0m \n",
      "\u001B[36m(objective_wrapper pid=4154365)\u001B[0m \n",
      "\u001B[36m(objective_wrapper pid=4154365)\u001B[0m \n",
      "\u001B[36m(objective_wrapper pid=4154365)\u001B[0m \n",
      "\u001B[36m(objective_wrapper pid=4153500)\u001B[0m \n",
      "\u001B[36m(objective_wrapper pid=4153500)\u001B[0m \n",
      "\u001B[36m(objective_wrapper pid=4153500)\u001B[0m \n",
      "\u001B[36m(objective_wrapper pid=4153500)\u001B[0m \n",
      "\u001B[36m(objective_wrapper pid=4154591)\u001B[0m \n",
      "\u001B[36m(objective_wrapper pid=4154591)\u001B[0m \n",
      "\u001B[36m(objective_wrapper pid=4154591)\u001B[0m \n",
      "\u001B[36m(objective_wrapper pid=4154591)\u001B[0m \n",
      "\u001B[36m(objective_wrapper pid=4153832)\u001B[0m \n",
      "\u001B[36m(objective_wrapper pid=4153832)\u001B[0m \n",
      "\u001B[36m(objective_wrapper pid=4153832)\u001B[0m \n",
      "\u001B[36m(objective_wrapper pid=4153832)\u001B[0m \n",
      "\u001B[36m(objective_wrapper pid=4153771)\u001B[0m \n",
      "\u001B[36m(objective_wrapper pid=4153771)\u001B[0m \n",
      "\u001B[36m(objective_wrapper pid=4153771)\u001B[0m \n",
      "\u001B[36m(objective_wrapper pid=4153771)\u001B[0m \n",
      "\u001B[36m(objective_wrapper pid=4156433)\u001B[0m \n",
      "\u001B[36m(objective_wrapper pid=4156433)\u001B[0m \n",
      "\u001B[36m(objective_wrapper pid=4156433)\u001B[0m \n",
      "\u001B[36m(objective_wrapper pid=4156433)\u001B[0m \n",
      "\u001B[36m(objective_wrapper pid=4156433)\u001B[0m PARAMS  {'rank': 15, 'eps': 0.4264115018815137, 'iters': 100}\u001B[32m [repeated 11x across cluster]\u001B[0m\n",
      "\u001B[36m(objective_wrapper pid=4156433)\u001B[0m (IMPUTATION) CDRec: (64,256) for rank 15, epsilon 0.4264115018815137, and iterations 100.\u001B[32m [repeated 11x across cluster]\u001B[0m\n",
      "\u001B[36m(objective_wrapper pid=4155115)\u001B[0m \n",
      "\u001B[36m(objective_wrapper pid=4155115)\u001B[0m \n",
      "\u001B[36m(objective_wrapper pid=4155115)\u001B[0m \n",
      "\u001B[36m(objective_wrapper pid=4155115)\u001B[0m \n",
      "\u001B[36m(objective_wrapper pid=4153098)\u001B[0m \n",
      "\u001B[36m(objective_wrapper pid=4153098)\u001B[0m \n",
      "\u001B[36m(objective_wrapper pid=4153098)\u001B[0m \n",
      "\u001B[36m(objective_wrapper pid=4153098)\u001B[0m \n",
      "\u001B[36m(objective_wrapper pid=4153098)\u001B[0m > logs: imputation cdrec - Execution Time: 0.0098 seconds.\u001B[32m [repeated 13x across cluster]\u001B[0m\n",
      "\u001B[36m(objective_wrapper pid=4153502)\u001B[0m \n",
      "\u001B[36m(objective_wrapper pid=4153502)\u001B[0m \n",
      "\u001B[36m(objective_wrapper pid=4153502)\u001B[0m \n",
      "\u001B[36m(objective_wrapper pid=4153502)\u001B[0m \n",
      "\u001B[36m(objective_wrapper pid=4154022)\u001B[0m \n",
      "\u001B[36m(objective_wrapper pid=4154022)\u001B[0m \n",
      "\u001B[36m(objective_wrapper pid=4154022)\u001B[0m \n",
      "\u001B[36m(objective_wrapper pid=4154022)\u001B[0m \n",
      "\u001B[36m(objective_wrapper pid=4154258)\u001B[0m \n",
      "\u001B[36m(objective_wrapper pid=4154258)\u001B[0m \n",
      "\u001B[36m(objective_wrapper pid=4154258)\u001B[0m \n",
      "\u001B[36m(objective_wrapper pid=4154258)\u001B[0m \n",
      "\u001B[36m(objective_wrapper pid=4156387)\u001B[0m \n",
      "\u001B[36m(objective_wrapper pid=4156387)\u001B[0m \n",
      "\u001B[36m(objective_wrapper pid=4156387)\u001B[0m \n",
      "\u001B[36m(objective_wrapper pid=4156387)\u001B[0m \n",
      "\u001B[36m(objective_wrapper pid=4154470)\u001B[0m \n",
      "\u001B[36m(objective_wrapper pid=4154470)\u001B[0m \n",
      "\u001B[36m(objective_wrapper pid=4154470)\u001B[0m \n",
      "\u001B[36m(objective_wrapper pid=4154470)\u001B[0m \n",
      "\u001B[36m(objective_wrapper pid=4153975)\u001B[0m \n",
      "\u001B[36m(objective_wrapper pid=4153975)\u001B[0m \n",
      "\u001B[36m(objective_wrapper pid=4153975)\u001B[0m \n",
      "\u001B[36m(objective_wrapper pid=4153975)\u001B[0m \n",
      "\u001B[36m(objective_wrapper pid=4153684)\u001B[0m \n",
      "\u001B[36m(objective_wrapper pid=4153684)\u001B[0m \n",
      "\u001B[36m(objective_wrapper pid=4153684)\u001B[0m \n",
      "\u001B[36m(objective_wrapper pid=4153684)\u001B[0m \n",
      "\u001B[36m(objective_wrapper pid=4154140)\u001B[0m \n",
      "\u001B[36m(objective_wrapper pid=4154140)\u001B[0m \n",
      "\u001B[36m(objective_wrapper pid=4154140)\u001B[0m \n",
      "\u001B[36m(objective_wrapper pid=4154140)\u001B[0m \n",
      "\u001B[36m(objective_wrapper pid=4154004)\u001B[0m \n",
      "\u001B[36m(objective_wrapper pid=4154004)\u001B[0m \n",
      "\u001B[36m(objective_wrapper pid=4154004)\u001B[0m \n",
      "\u001B[36m(objective_wrapper pid=4154004)\u001B[0m \n",
      "\u001B[36m(objective_wrapper pid=4153455)\u001B[0m \n",
      "\u001B[36m(objective_wrapper pid=4153455)\u001B[0m \n",
      "\u001B[36m(objective_wrapper pid=4153455)\u001B[0m \n",
      "\u001B[36m(objective_wrapper pid=4153455)\u001B[0m \n",
      "\u001B[36m(objective_wrapper pid=4154994)\u001B[0m \n",
      "\u001B[36m(objective_wrapper pid=4154994)\u001B[0m \n",
      "\u001B[36m(objective_wrapper pid=4154994)\u001B[0m \n",
      "\u001B[36m(objective_wrapper pid=4154994)\u001B[0m \n",
      "\u001B[36m(objective_wrapper pid=4153201)\u001B[0m \n",
      "\u001B[36m(objective_wrapper pid=4153201)\u001B[0m \n",
      "\u001B[36m(objective_wrapper pid=4153201)\u001B[0m \n",
      "\u001B[36m(objective_wrapper pid=4153201)\u001B[0m \n",
      "\u001B[36m(objective_wrapper pid=4153201)\u001B[0m PARAMS  {'rank': 2, 'eps': 0.00014021342305748394, 'iters': 150}\u001B[32m [repeated 14x across cluster]\u001B[0m\n",
      "\u001B[36m(objective_wrapper pid=4153201)\u001B[0m (IMPUTATION) CDRec: (64,256) for rank 2, epsilon 0.00014021342305748394, and iterations 150.\u001B[32m [repeated 14x across cluster]\u001B[0m\n",
      "\u001B[36m(objective_wrapper pid=4154110)\u001B[0m \n",
      "\u001B[36m(objective_wrapper pid=4154110)\u001B[0m \n",
      "\u001B[36m(objective_wrapper pid=4154110)\u001B[0m \n",
      "\u001B[36m(objective_wrapper pid=4154110)\u001B[0m \n",
      "\u001B[36m(objective_wrapper pid=4153820)\u001B[0m \n",
      "\u001B[36m(objective_wrapper pid=4153820)\u001B[0m \n",
      "\u001B[36m(objective_wrapper pid=4153820)\u001B[0m \n",
      "\u001B[36m(objective_wrapper pid=4153820)\u001B[0m \n",
      "\u001B[36m(objective_wrapper pid=4153820)\u001B[0m > logs: imputation cdrec - Execution Time: 0.0085 seconds.\u001B[32m [repeated 14x across cluster]\u001B[0m\n",
      "\u001B[36m(objective_wrapper pid=4153409)\u001B[0m \n",
      "\u001B[36m(objective_wrapper pid=4153409)\u001B[0m \n",
      "\u001B[36m(objective_wrapper pid=4153409)\u001B[0m \n",
      "\u001B[36m(objective_wrapper pid=4153409)\u001B[0m \n",
      "\u001B[36m(objective_wrapper pid=4154435)\u001B[0m \n",
      "\u001B[36m(objective_wrapper pid=4154435)\u001B[0m \n",
      "\u001B[36m(objective_wrapper pid=4154435)\u001B[0m \n",
      "\u001B[36m(objective_wrapper pid=4154435)\u001B[0m \n",
      "\u001B[36m(objective_wrapper pid=4154207)\u001B[0m \n",
      "\u001B[36m(objective_wrapper pid=4154207)\u001B[0m \n",
      "\u001B[36m(objective_wrapper pid=4154207)\u001B[0m \n",
      "\u001B[36m(objective_wrapper pid=4154207)\u001B[0m \n",
      "\u001B[36m(objective_wrapper pid=4153682)\u001B[0m \n",
      "\u001B[36m(objective_wrapper pid=4153682)\u001B[0m \n",
      "\u001B[36m(objective_wrapper pid=4153682)\u001B[0m \n",
      "\u001B[36m(objective_wrapper pid=4153682)\u001B[0m \n",
      "\u001B[36m(objective_wrapper pid=4154392)\u001B[0m \n",
      "\u001B[36m(objective_wrapper pid=4154392)\u001B[0m \n",
      "\u001B[36m(objective_wrapper pid=4154392)\u001B[0m \n",
      "\u001B[36m(objective_wrapper pid=4154392)\u001B[0m \n",
      "\u001B[36m(objective_wrapper pid=4154233)\u001B[0m \n",
      "\u001B[36m(objective_wrapper pid=4154233)\u001B[0m \n",
      "\u001B[36m(objective_wrapper pid=4154233)\u001B[0m \n",
      "\u001B[36m(objective_wrapper pid=4154233)\u001B[0m \n",
      "\u001B[36m(objective_wrapper pid=4155567)\u001B[0m \n",
      "\u001B[36m(objective_wrapper pid=4155567)\u001B[0m \n",
      "\u001B[36m(objective_wrapper pid=4155567)\u001B[0m \n",
      "\u001B[36m(objective_wrapper pid=4155567)\u001B[0m \n",
      "\u001B[36m(objective_wrapper pid=4154494)\u001B[0m \n",
      "\u001B[36m(objective_wrapper pid=4154494)\u001B[0m \n",
      "\u001B[36m(objective_wrapper pid=4154494)\u001B[0m \n",
      "\u001B[36m(objective_wrapper pid=4154494)\u001B[0m \n",
      "\u001B[36m(objective_wrapper pid=4154495)\u001B[0m \n",
      "\u001B[36m(objective_wrapper pid=4154495)\u001B[0m \n",
      "\u001B[36m(objective_wrapper pid=4154495)\u001B[0m \n",
      "\u001B[36m(objective_wrapper pid=4154495)\u001B[0m \n",
      "\u001B[36m(objective_wrapper pid=4155112)\u001B[0m \n",
      "\u001B[36m(objective_wrapper pid=4155112)\u001B[0m \n",
      "\u001B[36m(objective_wrapper pid=4155112)\u001B[0m \n",
      "\u001B[36m(objective_wrapper pid=4155112)\u001B[0m \n",
      "\u001B[36m(objective_wrapper pid=4153206)\u001B[0m \n",
      "\u001B[36m(objective_wrapper pid=4153206)\u001B[0m \n",
      "\u001B[36m(objective_wrapper pid=4153206)\u001B[0m \n",
      "\u001B[36m(objective_wrapper pid=4153206)\u001B[0m \n",
      "\u001B[36m(objective_wrapper pid=4153506)\u001B[0m \n",
      "\u001B[36m(objective_wrapper pid=4153506)\u001B[0m \n",
      "\u001B[36m(objective_wrapper pid=4153506)\u001B[0m \n",
      "\u001B[36m(objective_wrapper pid=4153506)\u001B[0m \n",
      "\u001B[36m(objective_wrapper pid=4153506)\u001B[0m PARAMS  {'rank': 4, 'eps': 1.1029848793746173e-05, 'iters': 50}\u001B[32m [repeated 14x across cluster]\u001B[0m\n",
      "\u001B[36m(objective_wrapper pid=4153506)\u001B[0m (IMPUTATION) CDRec: (64,256) for rank 4, epsilon 1.1029848793746173e-05, and iterations 50.\u001B[32m [repeated 14x across cluster]\u001B[0m\n",
      "\u001B[36m(objective_wrapper pid=4154523)\u001B[0m \n",
      "\u001B[36m(objective_wrapper pid=4154523)\u001B[0m \n",
      "\u001B[36m(objective_wrapper pid=4154523)\u001B[0m \n",
      "\u001B[36m(objective_wrapper pid=4154523)\u001B[0m \n",
      "\u001B[36m(objective_wrapper pid=4153506)\u001B[0m > logs: imputation cdrec - Execution Time: 0.0492 seconds.\u001B[32m [repeated 12x across cluster]\u001B[0m\n",
      "\u001B[36m(objective_wrapper pid=4156172)\u001B[0m \n",
      "\u001B[36m(objective_wrapper pid=4156172)\u001B[0m \n",
      "\u001B[36m(objective_wrapper pid=4156172)\u001B[0m \n",
      "\u001B[36m(objective_wrapper pid=4156172)\u001B[0m \n"
     ]
    },
    {
     "name": "stderr",
     "output_type": "stream",
     "text": [
      "2025-04-03 15:52:15,684\tINFO tune.py:1009 -- Wrote the latest version of all result files and experiment state to '/home/ubuntu/ray_results/objective_wrapper_2025-04-03_15-51-53' in 0.0083s.\n",
      "2025-04-03 15:52:15,694\tINFO tune.py:1041 -- Total run time: 21.99 seconds (21.97 seconds for the tuning loop).\n"
     ]
    },
    {
     "name": "stdout",
     "output_type": "stream",
     "text": [
      "\n",
      "\t\t(OPTI) > Ray tune - BEST CONFIG: {'rank': 11, 'eps': 2.3071580266676692e-05, 'iters': 150}\n",
      "\n",
      "\n",
      "> logs: optimization ray tune - Execution Time: 22.0338 seconds_____\n",
      "\n",
      "\u001B[36m(objective_wrapper pid=4156172)\u001B[0m PARAMS  {'rank': 14, 'eps': 6.663131854225725e-05, 'iters': 150}\u001B[32m [repeated 2x across cluster]\u001B[0m\n",
      "\u001B[36m(objective_wrapper pid=4156172)\u001B[0m (IMPUTATION) CDRec: (64,256) for rank 14, epsilon 6.663131854225725e-05, and iterations 150.\u001B[32m [repeated 2x across cluster]\u001B[0m\n",
      "\u001B[36m(objective_wrapper pid=4156172)\u001B[0m > logs: imputation cdrec - Execution Time: 0.1052 seconds.\u001B[32m [repeated 2x across cluster]\u001B[0m\n",
      "\n",
      "(IMPUTATION) CDRec: (64,256) for rank 11, epsilon 2.3071580266676692e-05, and iterations 150.\n",
      "> logs: imputation cdrec - Execution Time: 0.5628 seconds.\n",
      "\n",
      "(IMPUTATION) CDRec: (64,256) for rank 3, epsilon 1e-06, and iterations 100.\n",
      "> logs: imputation cdrec - Execution Time: 0.1204 seconds.\n",
      "\n",
      "Default values :\n",
      "RMSE                 = 0.40395406855137334\n",
      "MAE                  = 0.3116556927747662\n",
      "MI                   = 0.8410754313179322\n",
      "CORRELATION          = 0.9127290819984344\n",
      "\n",
      "Optimized values :\n",
      "RMSE                 = 0.2165221244144929\n",
      "MAE                  = 0.1607614361094884\n",
      "MI                   = 1.2157659583156484\n",
      "CORRELATION          = 0.9756886466794616\n",
      "\n",
      "plots saved in  ./imputegap_assets/imputation/25_04_03_15_52_17_cdrec_plot.jpg\n",
      "\n",
      "(SYS) Optimization parameters successfully saved to ./imputegap_assets/params/optimal_parameters_ray_tune_eeg-alcohol_cdrec.toml\n"
     ]
    }
   ],
   "execution_count": 78
  },
  {
   "metadata": {
    "ExecuteTime": {
     "end_time": "2025-04-03T15:52:21.592146Z",
     "start_time": "2025-04-03T15:52:21.588774Z"
    }
   },
   "cell_type": "code",
   "source": "imputer.parameters",
   "id": "87277022450b857c",
   "outputs": [
    {
     "data": {
      "text/plain": [
       "(11, 2.3071580266676692e-05, 150)"
      ]
     },
     "execution_count": 79,
     "metadata": {},
     "output_type": "execute_result"
    }
   ],
   "execution_count": 79
  },
  {
   "metadata": {},
   "cell_type": "markdown",
   "source": "All optimizers developed in ImputeGAP are available in the **ts.optimizers** module, which can be listed as follows:",
   "id": "183bc701c8b63a34"
  },
  {
   "metadata": {
    "ExecuteTime": {
     "end_time": "2025-04-03T16:01:52.341776Z",
     "start_time": "2025-04-03T16:01:52.335259Z"
    }
   },
   "cell_type": "code",
   "source": "ts.optimizers",
   "id": "7622d6fff5a54b12",
   "outputs": [
    {
     "data": {
      "text/plain": [
       "['bayesian', 'greedy', 'particle_swarm', 'ray_tune', 'successive_halving']"
      ]
     },
     "execution_count": 23,
     "metadata": {},
     "output_type": "execute_result"
    }
   ],
   "execution_count": 23
  }
 ],
 "metadata": {
  "kernelspec": {
   "display_name": "Python 3",
   "language": "python",
   "name": "python3"
  },
  "language_info": {
   "codemirror_mode": {
    "name": "ipython",
    "version": 2
   },
   "file_extension": ".py",
   "mimetype": "text/x-python",
   "name": "python",
   "nbconvert_exporter": "python",
   "pygments_lexer": "ipython2",
   "version": "2.7.6"
  }
 },
 "nbformat": 4,
 "nbformat_minor": 5
}
